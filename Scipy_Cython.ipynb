{
 "cells": [
  {
   "cell_type": "markdown",
   "metadata": {},
   "source": [
    "# Usage demonstration of Scipy's `LowLevelCallable` in conjunction with Cython"
   ]
  },
  {
   "cell_type": "markdown",
   "metadata": {},
   "source": [
    "We show how to speed up the calculation of this exemplary integral with multiple paramters\n",
    "\n",
    "$$\n",
    "I(a, b) = \\int_0^\\infty \\mathrm{d}x\\, \\frac{x \\mathrm{e}^{-ax}}{\\tanh x} \\cos(bx)\n",
    "$$\n",
    "\n",
    "by means of Cython in combination with Scipy's `quad` routine."
   ]
  },
  {
   "cell_type": "markdown",
   "metadata": {},
   "source": [
    "## Create extension module `.pyx`"
   ]
  },
  {
   "cell_type": "code",
   "execution_count": 1,
   "metadata": {},
   "outputs": [
    {
     "name": "stdout",
     "output_type": "stream",
     "text": [
      "Writing module.pyx\n"
     ]
    }
   ],
   "source": [
    "%%writefile module.pyx\n",
    "\n",
    "from libc.math cimport exp, tanh, cos\n",
    "\n",
    "cdef double c_integrand(double x):\n",
    "    if x == 0:\n",
    "        return 1\n",
    "    else:\n",
    "        return x * exp(-x)/tanh(x) * cos(10 * x)  \n",
    "\n",
    "cpdef double cp_integrand(double x):\n",
    "    if x == 0:\n",
    "        return 1\n",
    "    else:\n",
    "        return x * exp(-x)/tanh(x) * cos(10 * x)\n",
    "    \n",
    "import math\n",
    "def integrand(x):\n",
    "    if x == 0:\n",
    "        return 1\n",
    "    else:\n",
    "        return x * math.exp(-x)/math.tanh(x) * math.cos(10 * x) "
   ]
  },
  {
   "cell_type": "markdown",
   "metadata": {},
   "source": [
    "## Create a corresponding `.pxd` declaration file"
   ]
  },
  {
   "cell_type": "code",
   "execution_count": 2,
   "metadata": {},
   "outputs": [
    {
     "name": "stdout",
     "output_type": "stream",
     "text": [
      "Writing module.pxd\n"
     ]
    }
   ],
   "source": [
    "%%writefile module.pxd\n",
    "\n",
    "cdef double c_integrand(double x)\n",
    "cpdef double cp_integrand(double x)"
   ]
  },
  {
   "cell_type": "code",
   "execution_count": 3,
   "metadata": {},
   "outputs": [
    {
     "data": {
      "text/plain": [
       "(None, <pyximport.pyximport.PyxImporter at 0x7fbc787be2b0>)"
      ]
     },
     "execution_count": 3,
     "metadata": {},
     "output_type": "execute_result"
    }
   ],
   "source": [
    "import pyximport; pyximport.install(inplace=True, language_level=3)"
   ]
  },
  {
   "cell_type": "code",
   "execution_count": 4,
   "metadata": {},
   "outputs": [
    {
     "data": {
      "text/plain": [
       "\u001b[0;31mType:\u001b[0m        module\n",
       "\u001b[0;31mString form:\u001b[0m <module 'module' (/home/daniel/Privat/CythonPrivate/module.cpython-36m-x86_64-linux-gnu.so)>\n",
       "\u001b[0;31mFile:\u001b[0m        ~/Privat/CythonPrivate/module.cpython-36m-x86_64-linux-gnu.so\n",
       "\u001b[0;31mDocstring:\u001b[0m   <no docstring>\n"
      ]
     },
     "metadata": {},
     "output_type": "display_data"
    }
   ],
   "source": [
    "import module\n",
    "module?"
   ]
  },
  {
   "cell_type": "code",
   "execution_count": 5,
   "metadata": {},
   "outputs": [],
   "source": [
    "%matplotlib inline\n",
    "import matplotlib.pyplot as plt\n",
    "import numpy as np\n",
    "x = np.linspace(0, 10, 200)\n",
    "y = [module.integrand(x_i) for x_i in x]"
   ]
  },
  {
   "cell_type": "code",
   "execution_count": 6,
   "metadata": {},
   "outputs": [
    {
     "data": {
      "image/png": "[encoded data removed]",
      "text/plain": [
       "<Figure size 432x288 with 1 Axes>"
      ]
     },
     "metadata": {
      "needs_background": "light"
     },
     "output_type": "display_data"
    }
   ],
   "source": [
    "plt.plot(x, y); plt.title(\"integrand function\");"
   ]
  },
  {
   "cell_type": "code",
   "execution_count": 7,
   "metadata": {},
   "outputs": [],
   "source": [
    "from scipy.integrate import quad\n",
    "from scipy import LowLevelCallable\n",
    "\n",
    "from module import cp_integrand\n",
    "from module import integrand\n",
    "import math\n",
    "\n",
    "# along to the compiled module, a corresponding .pxd file with declarations is necessary\n",
    "ll_cython_c_integrand = LowLevelCallable.from_cython(module, 'c_integrand')\n",
    "ll_cython_cp_integrand = LowLevelCallable.from_cython(module, 'cp_integrand')\n",
    "\n",
    "# integration limits\n",
    "a, b = 0, math.inf\n",
    "\n",
    "def integral1():\n",
    "    return quad(integrand, a, b)\n",
    "\n",
    "def integral2():\n",
    "    return quad(cp_integrand, a, b)\n",
    "\n",
    "def integral3():\n",
    "    return quad(ll_cython_c_integrand, a, b)\n",
    "\n",
    "def integral4():\n",
    "    return quad(ll_cython_cp_integrand, a, b)"
   ]
  },
  {
   "cell_type": "markdown",
   "metadata": {},
   "source": [
    "## Timing results"
   ]
  },
  {
   "cell_type": "code",
   "execution_count": 8,
   "metadata": {},
   "outputs": [
    {
     "name": "stdout",
     "output_type": "stream",
     "text": [
      "538 µs ± 11.9 µs per loop (mean ± std. dev. of 7 runs, 1000 loops each)\n"
     ]
    }
   ],
   "source": [
    "# pure Python version\n",
    "%timeit integral1()"
   ]
  },
  {
   "cell_type": "code",
   "execution_count": 9,
   "metadata": {},
   "outputs": [
    {
     "name": "stdout",
     "output_type": "stream",
     "text": [
      "237 µs ± 6.84 µs per loop (mean ± std. dev. of 7 runs, 1000 loops each)\n"
     ]
    }
   ],
   "source": [
    "# Cython version of integrand, passed over to quad as PyObject\n",
    "%timeit integral2()"
   ]
  },
  {
   "cell_type": "code",
   "execution_count": 10,
   "metadata": {},
   "outputs": [
    {
     "name": "stdout",
     "output_type": "stream",
     "text": [
      "157 µs ± 16.4 µs per loop (mean ± std. dev. of 7 runs, 10000 loops each)\n"
     ]
    }
   ],
   "source": [
    "# Cython version of integrand, passed over to quad as LowLevelCallable\n",
    "%timeit integral3()"
   ]
  },
  {
   "cell_type": "code",
   "execution_count": 11,
   "metadata": {},
   "outputs": [
    {
     "name": "stdout",
     "output_type": "stream",
     "text": [
      "Invalid scipy.LowLevelCallable signature \"double (double, int __pyx_skip_dispatch)\". Expected one of: ['double (double, void *)', 'double (int, double *, void *)', 'double (double)', 'double (int, double *)']\n"
     ]
    }
   ],
   "source": [
    "# LowLevelCallable does not accept cpdef declared functions\n",
    "try:\n",
    "    integral4()\n",
    "except Exception as e:\n",
    "    print(e)"
   ]
  },
  {
   "cell_type": "markdown",
   "metadata": {},
   "source": [
    "## Putting Integration routine inside Cython extension module"
   ]
  },
  {
   "cell_type": "code",
   "execution_count": 12,
   "metadata": {},
   "outputs": [
    {
     "name": "stdout",
     "output_type": "stream",
     "text": [
      "Writing module_inplace.pxd\n"
     ]
    }
   ],
   "source": [
    "%%writefile module_inplace.pxd\n",
    "\n",
    "cdef double c_integrand(double x)"
   ]
  },
  {
   "cell_type": "code",
   "execution_count": 13,
   "metadata": {},
   "outputs": [
    {
     "name": "stdout",
     "output_type": "stream",
     "text": [
      "Writing module_inplace.pyx\n"
     ]
    }
   ],
   "source": [
    "%%writefile module_inplace.pyx\n",
    "\n",
    "# refer to module inside the module itself\n",
    "import sys\n",
    "current_module = sys.modules[__name__]\n",
    "\n",
    "from scipy.integrate import quad\n",
    "from scipy import LowLevelCallable\n",
    "\n",
    "from libc.math cimport exp, tanh, cos\n",
    "\n",
    "cdef double c_integrand(double x):\n",
    "    if x == 0:\n",
    "        return 1\n",
    "    else:\n",
    "        return x * exp(-x)/tanh(x) * cos(10 * x)  \n",
    "\n",
    "ll_cython_c_integrand_inside_module = LowLevelCallable.from_cython(current_module, 'c_integrand')\n",
    "\n",
    "import math\n",
    "def integral5():\n",
    "    return quad(ll_cython_c_integrand_inside_module, 0, math.inf)"
   ]
  },
  {
   "cell_type": "code",
   "execution_count": 14,
   "metadata": {},
   "outputs": [
    {
     "data": {
      "text/plain": [
       "(None, None)"
      ]
     },
     "execution_count": 14,
     "metadata": {},
     "output_type": "execute_result"
    }
   ],
   "source": [
    "import pyximport; pyximport.install(inplace=True, language_level=3)"
   ]
  },
  {
   "cell_type": "code",
   "execution_count": 15,
   "metadata": {},
   "outputs": [],
   "source": [
    "from module_inplace import integral5"
   ]
  },
  {
   "cell_type": "code",
   "execution_count": 16,
   "metadata": {},
   "outputs": [
    {
     "name": "stdout",
     "output_type": "stream",
     "text": [
      "142 µs ± 1.7 µs per loop (mean ± std. dev. of 7 runs, 10000 loops each)\n"
     ]
    }
   ],
   "source": [
    "%timeit integral5()"
   ]
  },
  {
   "cell_type": "code",
   "execution_count": 17,
   "metadata": {},
   "outputs": [
    {
     "data": {
      "text/plain": [
       "True"
      ]
     },
     "execution_count": 17,
     "metadata": {},
     "output_type": "execute_result"
    }
   ],
   "source": [
    "# final check\n",
    "np.allclose(integral1(), integral2(), integral3(), integral5())"
   ]
  },
  {
   "cell_type": "code",
   "execution_count": 18,
   "metadata": {},
   "outputs": [],
   "source": [
    "!rm module*"
   ]
  },
  {
   "cell_type": "code",
   "execution_count": null,
   "metadata": {},
   "outputs": [],
   "source": []
  }
 ],
 "metadata": {
  "kernelspec": {
   "display_name": "Python 3",
   "language": "python",
   "name": "python3"
  },
  "language_info": {
   "codemirror_mode": {
    "name": "ipython",
    "version": 3
   },
   "file_extension": ".py",
   "mimetype": "text/x-python",
   "name": "python",
   "nbconvert_exporter": "python",
   "pygments_lexer": "ipython3",
   "version": "3.7.4"
  }
 },
 "nbformat": 4,
 "nbformat_minor": 4
}
